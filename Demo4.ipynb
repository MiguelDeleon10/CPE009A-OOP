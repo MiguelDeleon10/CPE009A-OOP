{
  "nbformat": 4,
  "nbformat_minor": 0,
  "metadata": {
    "colab": {
      "provenance": [],
      "authorship_tag": "ABX9TyP+X1TZNk56I0GCGcYsBeO3",
      "include_colab_link": true
    },
    "kernelspec": {
      "name": "python3",
      "display_name": "Python 3"
    },
    "language_info": {
      "name": "python"
    }
  },
  "cells": [
    {
      "cell_type": "markdown",
      "metadata": {
        "id": "view-in-github",
        "colab_type": "text"
      },
      "source": [
        "<a href=\"https://colab.research.google.com/github/MiguelDeleon10/CPE009A-OOP/blob/main/Demo4.ipynb\" target=\"_parent\"><img src=\"https://colab.research.google.com/assets/colab-badge.svg\" alt=\"Open In Colab\"/></a>"
      ]
    },
    {
      "cell_type": "markdown",
      "source": [
        "DEMO4"
      ],
      "metadata": {
        "id": "Ds9VRuauZHtE"
      }
    },
    {
      "cell_type": "code",
      "source": [
        "print(bool(\"Hello\"))\n",
        "print(bool(15))\n"
      ],
      "metadata": {
        "colab": {
          "base_uri": "https://localhost:8080/"
        },
        "id": "66ys16LMZM5U",
        "outputId": "f4cefb01-7cc2-482c-b544-4fa44ec58486"
      },
      "execution_count": 11,
      "outputs": [
        {
          "output_type": "stream",
          "name": "stdout",
          "text": [
            "True\n",
            "True\n"
          ]
        }
      ]
    },
    {
      "cell_type": "code",
      "source": [
        "print(bool(False))\n",
        "print(bool(True))\n",
        "print(bool(0))"
      ],
      "metadata": {
        "colab": {
          "base_uri": "https://localhost:8080/"
        },
        "id": "GHoNYlaZZyFd",
        "outputId": "d6fc9325-cc79-46c8-db46-b83b53ff7c81"
      },
      "execution_count": 15,
      "outputs": [
        {
          "output_type": "stream",
          "name": "stdout",
          "text": [
            "False\n",
            "True\n",
            "False\n"
          ]
        }
      ]
    },
    {
      "cell_type": "markdown",
      "source": [
        "FUNCTIONS CAN RETURN A BOOLEAN"
      ],
      "metadata": {
        "id": "muCkj3RdaeVF"
      }
    },
    {
      "cell_type": "code",
      "source": [
        "def myFunction():\n",
        "  return False"
      ],
      "metadata": {
        "id": "reGapAd8ajIO"
      },
      "execution_count": 21,
      "outputs": []
    },
    {
      "cell_type": "code",
      "source": [
        "if myFunction():\n",
        "  print(\"YES!\")\n",
        "else:\n",
        "    print(\"NO!\")"
      ],
      "metadata": {
        "colab": {
          "base_uri": "https://localhost:8080/"
        },
        "id": "jcyaJgJYbC7f",
        "outputId": "ff5d22d2-ac1d-455e-c46f-ce51c2dfb4f2"
      },
      "execution_count": 22,
      "outputs": [
        {
          "output_type": "stream",
          "name": "stdout",
          "text": [
            "NO!\n"
          ]
        }
      ]
    },
    {
      "cell_type": "code",
      "source": [
        "print(10>9)\n",
        "a=6\n",
        "b=7\n",
        "print(a==b)\n",
        "print(a!=a)"
      ],
      "metadata": {
        "colab": {
          "base_uri": "https://localhost:8080/"
        },
        "id": "_WBVIIl3bi8N",
        "outputId": "0581389c-1dc8-4f85-b0c0-5c93bc44bbf9"
      },
      "execution_count": 23,
      "outputs": [
        {
          "output_type": "stream",
          "name": "stdout",
          "text": [
            "True\n",
            "False\n",
            "False\n"
          ]
        }
      ]
    },
    {
      "cell_type": "markdown",
      "source": [
        "PYTHON OPERATORS"
      ],
      "metadata": {
        "id": "OCUHDo_pceFd"
      }
    },
    {
      "cell_type": "code",
      "source": [
        "print(10+10)\n",
        "print(10-10)\n",
        "print(10/10)\n",
        "print(10*10)\n",
        "print(10%10)\n",
        "print(10**10)"
      ],
      "metadata": {
        "colab": {
          "base_uri": "https://localhost:8080/"
        },
        "id": "wN8Cf_R6cheU",
        "outputId": "5bea4f46-f907-41e6-c9dc-7542aee1d1af"
      },
      "execution_count": 24,
      "outputs": [
        {
          "output_type": "stream",
          "name": "stdout",
          "text": [
            "20\n",
            "0\n",
            "1.0\n",
            "100\n",
            "0\n",
            "10000000000\n"
          ]
        }
      ]
    },
    {
      "cell_type": "markdown",
      "source": [
        " Python Bitwise Operators"
      ],
      "metadata": {
        "id": "-P-V6v8yfMdF"
      }
    },
    {
      "cell_type": "code",
      "source": [
        "a=60\n",
        "b=13\n",
        "print(a&b)\n",
        "print(a|b)\n",
        "print(a^b)\n",
        "a<<1"
      ],
      "metadata": {
        "colab": {
          "base_uri": "https://localhost:8080/"
        },
        "id": "rVf789GIfXiB",
        "outputId": "ab63db01-d0b7-4a9b-f09f-6464be417891"
      },
      "execution_count": 39,
      "outputs": [
        {
          "output_type": "stream",
          "name": "stdout",
          "text": [
            "12\n",
            "61\n",
            "49\n"
          ]
        },
        {
          "output_type": "execute_result",
          "data": {
            "text/plain": [
              "120"
            ]
          },
          "metadata": {},
          "execution_count": 39
        }
      ]
    },
    {
      "cell_type": "markdown",
      "source": [
        "**PHYTHON ASSIGNMENT OPERATORS**"
      ],
      "metadata": {
        "id": "F1yCZ_JOiocz"
      }
    },
    {
      "cell_type": "code",
      "source": [
        "x=1\n",
        "X+=3 #SameAs x=x+3\n",
        "x-=3 #SameAs x=x-3\n",
        "x*=3 #SameAs x=x*3\n",
        "x/=3 #SameAs x=x/3\n",
        "x%=3 #SameAs x=x%3"
      ],
      "metadata": {
        "colab": {
          "base_uri": "https://localhost:8080/",
          "height": 211
        },
        "id": "hNi2_XvVixQk",
        "outputId": "b719a428-c823-4991-a54e-ac29bc59a8d1"
      },
      "execution_count": 40,
      "outputs": [
        {
          "output_type": "error",
          "ename": "NameError",
          "evalue": "name 'X' is not defined",
          "traceback": [
            "\u001b[0;31m---------------------------------------------------------------------------\u001b[0m",
            "\u001b[0;31mNameError\u001b[0m                                 Traceback (most recent call last)",
            "\u001b[0;32m<ipython-input-40-c83e9b6781a9>\u001b[0m in \u001b[0;36m<cell line: 2>\u001b[0;34m()\u001b[0m\n\u001b[1;32m      1\u001b[0m \u001b[0mx\u001b[0m\u001b[0;34m=\u001b[0m\u001b[0;36m1\u001b[0m\u001b[0;34m\u001b[0m\u001b[0;34m\u001b[0m\u001b[0m\n\u001b[0;32m----> 2\u001b[0;31m \u001b[0mX\u001b[0m\u001b[0;34m+=\u001b[0m\u001b[0;36m3\u001b[0m \u001b[0;31m#SameAs x=x+3\u001b[0m\u001b[0;34m\u001b[0m\u001b[0;34m\u001b[0m\u001b[0m\n\u001b[0m\u001b[1;32m      3\u001b[0m \u001b[0mx\u001b[0m\u001b[0;34m-=\u001b[0m\u001b[0;36m3\u001b[0m \u001b[0;31m#SameAs x=x-3\u001b[0m\u001b[0;34m\u001b[0m\u001b[0;34m\u001b[0m\u001b[0m\n\u001b[1;32m      4\u001b[0m \u001b[0mx\u001b[0m\u001b[0;34m*=\u001b[0m\u001b[0;36m3\u001b[0m \u001b[0;31m#SameAs x=x*3\u001b[0m\u001b[0;34m\u001b[0m\u001b[0;34m\u001b[0m\u001b[0m\n\u001b[1;32m      5\u001b[0m \u001b[0mx\u001b[0m\u001b[0;34m/=\u001b[0m\u001b[0;36m3\u001b[0m \u001b[0;31m#SameAs x=x/3\u001b[0m\u001b[0;34m\u001b[0m\u001b[0;34m\u001b[0m\u001b[0m\n",
            "\u001b[0;31mNameError\u001b[0m: name 'X' is not defined"
          ]
        }
      ]
    },
    {
      "cell_type": "code",
      "source": [
        "y=60\n",
        "z=13\n",
        "\n",
        "print(y>z) #true\n",
        "print(y<z) #false\n",
        "print(y>z or z>y) #true\n",
        "print(not(y<z and z<y)) #true"
      ],
      "metadata": {
        "colab": {
          "base_uri": "https://localhost:8080/"
        },
        "id": "NEEno6wJl0uN",
        "outputId": "8c903aae-10f6-4884-d28c-38d4845680ed"
      },
      "execution_count": 41,
      "outputs": [
        {
          "output_type": "stream",
          "name": "stdout",
          "text": [
            "True\n",
            "False\n",
            "True\n",
            "True\n"
          ]
        }
      ]
    },
    {
      "cell_type": "markdown",
      "source": [
        "**IDENTITY OPERATORS**"
      ],
      "metadata": {
        "id": "KEupcNbGm_Um"
      }
    },
    {
      "cell_type": "code",
      "source": [],
      "metadata": {
        "id": "aLNpcpeTnEiH"
      },
      "execution_count": null,
      "outputs": []
    },
    {
      "cell_type": "markdown",
      "source": [
        "THE RANGE FUNCTION"
      ],
      "metadata": {
        "id": "1CsNxmvIvNdU"
      }
    },
    {
      "cell_type": "code",
      "source": [
        "for x in range(6):\n",
        "  print(x)\n",
        "for x in range(2,6):\n",
        "  print(x)"
      ],
      "metadata": {
        "colab": {
          "base_uri": "https://localhost:8080/"
        },
        "id": "yaDoy_CvvR37",
        "outputId": "d46fcea2-af59-4945-cfed-0fa23a9eb5cf"
      },
      "execution_count": 45,
      "outputs": [
        {
          "output_type": "stream",
          "name": "stdout",
          "text": [
            "0\n",
            "1\n",
            "2\n",
            "3\n",
            "4\n",
            "5\n",
            "2\n",
            "3\n",
            "4\n",
            "5\n"
          ]
        }
      ]
    }
  ]
}