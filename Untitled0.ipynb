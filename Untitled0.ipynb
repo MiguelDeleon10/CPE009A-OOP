{
  "cells": [
    {
      "cell_type": "markdown",
      "metadata": {
        "id": "view-in-github",
        "colab_type": "text"
      },
      "source": [
        "<a href=\"https://colab.research.google.com/github/MiguelDeleon10/CPE009A-OOP/blob/main/Untitled0.ipynb\" target=\"_parent\"><img src=\"https://colab.research.google.com/assets/colab-badge.svg\" alt=\"Open In Colab\"/></a>"
      ]
    },
    {
      "cell_type": "code",
      "execution_count": null,
      "metadata": {
        "colab": {
          "base_uri": "https://localhost:8080/"
        },
        "id": "JtuCF9bdJje4",
        "outputId": "006c559a-eeac-452c-bafb-04beb265315c"
      },
      "outputs": [
        {
          "name": "stdout",
          "output_type": "stream",
          "text": [
            "five is greater than two\n"
          ]
        }
      ],
      "source": [
        "if 5>2:\n",
        "  print(\"five is greater than two\")"
      ]
    },
    {
      "cell_type": "markdown",
      "metadata": {
        "id": "KlpK8-BVKYFC"
      },
      "source": [
        "# Phyton Comment"
      ]
    },
    {
      "cell_type": "code",
      "execution_count": null,
      "metadata": {
        "colab": {
          "background_save": true
        },
        "id": "W-NrqecOKndD"
      },
      "outputs": [],
      "source": [
        "if 5>2:\n",
        "  print(\"five is greater than two\") #comparison of five and two\n"
      ]
    },
    {
      "cell_type": "markdown",
      "metadata": {
        "id": "bP_AfxlmM9v7"
      },
      "source": [
        "Phyton Viriables\n"
      ]
    },
    {
      "cell_type": "code",
      "execution_count": null,
      "metadata": {
        "colab": {
          "background_save": true
        },
        "id": "0MzTGpWtNE2q",
        "outputId": "759f9f1c-0b01-475d-9eb7-1586c516352b"
      },
      "outputs": [
        {
          "ename": "IndentationError",
          "evalue": "unexpected indent (<ipython-input-11-f9b81dd8e2da>, line 4)",
          "output_type": "error",
          "traceback": [
            "\u001b[0;36m  File \u001b[0;32m\"<ipython-input-11-f9b81dd8e2da>\"\u001b[0;36m, line \u001b[0;32m4\u001b[0m\n\u001b[0;31m    print(a)\u001b[0m\n\u001b[0m    ^\u001b[0m\n\u001b[0;31mIndentationError\u001b[0m\u001b[0;31m:\u001b[0m unexpected indent\n"
          ]
        }
      ],
      "source": [
        "x=1 #this is a single viriavle with a value\n",
        "a,b=0,-1\n",
        "\n",
        "  print(a)\n",
        "  print(b)\n",
        "  print(x)\n",
        "\n",
        "  b=\"sally\"\n",
        "  print(b)\n"
      ]
    },
    {
      "cell_type": "markdown",
      "metadata": {
        "id": "PGMTj1bkNyVc"
      },
      "source": [
        "Phyton Casting\n",
        "\n",
        "\n",
        "\n"
      ]
    },
    {
      "cell_type": "code",
      "execution_count": null,
      "metadata": {
        "colab": {
          "background_save": true
        },
        "id": "KA6RJnmcOA0D",
        "outputId": "ea275505-454c-4ff4-ef5a-a2a155cefe7b"
      },
      "outputs": [
        {
          "name": "stdout",
          "output_type": "stream",
          "text": [
            "4\n",
            "4.0\n"
          ]
        }
      ],
      "source": [
        "b=\"sally\"#this is a type of string\n",
        "b=int(4)\n",
        "print(b)\n",
        "\n",
        "b=float(4)\n",
        "print(b)"
      ]
    },
    {
      "cell_type": "markdown",
      "metadata": {
        "id": "t_UTNd7IO4nD"
      },
      "source": [
        "**Type**()fu"
      ]
    },
    {
      "cell_type": "markdown",
      "source": [
        "Double Quotes or Single Quotes"
      ],
      "metadata": {
        "id": "PfjmtD4HQcG9"
      }
    },
    {
      "cell_type": "code",
      "source": [
        "y=\"john\"\n",
        "print(y)\n",
        "\n",
        "y='jhon'\n",
        "print(y)"
      ],
      "metadata": {
        "id": "Xu0VWQaTQiXU"
      },
      "execution_count": null,
      "outputs": []
    },
    {
      "cell_type": "markdown",
      "source": [
        "Case Sensitive"
      ],
      "metadata": {
        "id": "y3i83YLQQwhs"
      }
    },
    {
      "cell_type": "code",
      "source": [
        "a=4\n",
        "A=\"sally\"\n",
        "#a will not overwrite a"
      ],
      "metadata": {
        "id": "He7hY6hCQzzU"
      },
      "execution_count": null,
      "outputs": []
    },
    {
      "cell_type": "markdown",
      "source": [
        "Multiple Viriables"
      ],
      "metadata": {
        "id": "b_j76KRDRB2t"
      }
    },
    {
      "cell_type": "code",
      "source": [
        "x,y,z= \"one\", \"two\",\"three\"\n",
        "  print(x)\n",
        "  print(y)\n",
        "  print(z)\n"
      ],
      "metadata": {
        "id": "ea1Xak36RFfN"
      },
      "execution_count": null,
      "outputs": []
    },
    {
      "cell_type": "markdown",
      "source": [
        "One Value to Multiple Viriable"
      ],
      "metadata": {
        "id": "bH0QtnnORX0T"
      }
    },
    {
      "cell_type": "code",
      "source": [
        "x=y=z=\"four\"\n",
        "\n",
        "  print(x)\n",
        "  print(y)\n",
        "  print(z)\n"
      ],
      "metadata": {
        "id": "Qxjco3e5Rf4c",
        "colab": {
          "base_uri": "https://localhost:8080/",
          "height": 140
        },
        "outputId": "4d31389e-68b4-4fb5-a378-eb344d1ac000"
      },
      "execution_count": 13,
      "outputs": [
        {
          "output_type": "error",
          "ename": "IndentationError",
          "evalue": "unexpected indent (<ipython-input-13-714ebd7d3d3f>, line 3)",
          "traceback": [
            "\u001b[0;36m  File \u001b[0;32m\"<ipython-input-13-714ebd7d3d3f>\"\u001b[0;36m, line \u001b[0;32m3\u001b[0m\n\u001b[0;31m    print(x)\u001b[0m\n\u001b[0m    ^\u001b[0m\n\u001b[0;31mIndentationError\u001b[0m\u001b[0;31m:\u001b[0m unexpected indent\n"
          ]
        }
      ]
    },
    {
      "cell_type": "markdown",
      "source": [
        "Output Viriables"
      ],
      "metadata": {
        "id": "81V9OKRjR3BE"
      }
    },
    {
      "cell_type": "code",
      "source": [
        "x=\"enjoying\"\n",
        "print(\"python programming is \"+\" \"+x)"
      ],
      "metadata": {
        "id": "9YV4PBpfR60s",
        "colab": {
          "base_uri": "https://localhost:8080/"
        },
        "outputId": "003bc26c-6aa1-4b07-b6ec-a7c75083147e"
      },
      "execution_count": 14,
      "outputs": [
        {
          "output_type": "stream",
          "name": "stdout",
          "text": [
            "python programming is  enjoying\n"
          ]
        }
      ]
    },
    {
      "cell_type": "markdown",
      "source": [
        "Other way"
      ],
      "metadata": {
        "id": "WkSJWrctSRAc"
      }
    },
    {
      "cell_type": "code",
      "source": [
        "x=\"Phython is\"\n",
        "y=\"enjoying\"\n",
        "z=x+y\n",
        "print(z)"
      ],
      "metadata": {
        "colab": {
          "base_uri": "https://localhost:8080/"
        },
        "id": "W8Po783PSTGk",
        "outputId": "003dee0d-b0b0-4069-bc89-6143d2115741"
      },
      "execution_count": 15,
      "outputs": [
        {
          "output_type": "stream",
          "name": "stdout",
          "text": [
            "Phython isenjoying\n"
          ]
        }
      ]
    }
  ],
  "metadata": {
    "colab": {
      "provenance": [],
      "authorship_tag": "ABX9TyNkvT+FVyVZ+NG2aYttRL3h",
      "include_colab_link": true
    },
    "kernelspec": {
      "display_name": "Python 3",
      "name": "python3"
    },
    "language_info": {
      "name": "python"
    }
  },
  "nbformat": 4,
  "nbformat_minor": 0
}