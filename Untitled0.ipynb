{
  "cells": [
    {
      "cell_type": "markdown",
      "metadata": {
        "id": "view-in-github",
        "colab_type": "text"
      },
      "source": [
        "<a href=\"https://colab.research.google.com/github/MiguelDeleon10/CPE009A-OOP/blob/main/Untitled0.ipynb\" target=\"_parent\"><img src=\"https://colab.research.google.com/assets/colab-badge.svg\" alt=\"Open In Colab\"/></a>"
      ]
    },
    {
      "cell_type": "code",
      "execution_count": null,
      "metadata": {
        "colab": {
          "base_uri": "https://localhost:8080/"
        },
        "id": "JtuCF9bdJje4",
        "outputId": "006c559a-eeac-452c-bafb-04beb265315c"
      },
      "outputs": [
        {
          "name": "stdout",
          "output_type": "stream",
          "text": [
            "five is greater than two\n"
          ]
        }
      ],
      "source": [
        "if 5>2:\n",
        "  print(\"five is greater than two\")"
      ]
    },
    {
      "cell_type": "markdown",
      "metadata": {
        "id": "KlpK8-BVKYFC"
      },
      "source": [
        "# Phyton Comment"
      ]
    },
    {
      "cell_type": "code",
      "execution_count": null,
      "metadata": {
        "colab": {
          "background_save": true
        },
        "id": "W-NrqecOKndD"
      },
      "outputs": [],
      "source": [
        "if 5>2:\n",
        "  print(\"five is greater than two\") #comparison of five and two\n"
      ]
    },
    {
      "cell_type": "markdown",
      "metadata": {
        "id": "bP_AfxlmM9v7"
      },
      "source": [
        "Phyton Viriables\n"
      ]
    },
    {
      "cell_type": "code",
      "execution_count": null,
      "metadata": {
        "colab": {
          "background_save": true
        },
        "id": "0MzTGpWtNE2q",
        "outputId": "759f9f1c-0b01-475d-9eb7-1586c516352b"
      },
      "outputs": [
        {
          "ename": "IndentationError",
          "evalue": "unexpected indent (<ipython-input-11-f9b81dd8e2da>, line 4)",
          "output_type": "error",
          "traceback": [
            "\u001b[0;36m  File \u001b[0;32m\"<ipython-input-11-f9b81dd8e2da>\"\u001b[0;36m, line \u001b[0;32m4\u001b[0m\n\u001b[0;31m    print(a)\u001b[0m\n\u001b[0m    ^\u001b[0m\n\u001b[0;31mIndentationError\u001b[0m\u001b[0;31m:\u001b[0m unexpected indent\n"
          ]
        }
      ],
      "source": [
        "x=1 #this is a single viriavle with a value\n",
        "a,b=0,-1\n",
        "\n",
        "  print(a)\n",
        "  print(b)\n",
        "  print(x)\n",
        "\n",
        "  b=\"sally\"\n",
        "  print(b)\n"
      ]
    },
    {
      "cell_type": "markdown",
      "metadata": {
        "id": "PGMTj1bkNyVc"
      },
      "source": [
        "Phyton Casting\n",
        "\n",
        "\n",
        "\n"
      ]
    },
    {
      "cell_type": "code",
      "execution_count": null,
      "metadata": {
        "colab": {
          "background_save": true
        },
        "id": "KA6RJnmcOA0D",
        "outputId": "ea275505-454c-4ff4-ef5a-a2a155cefe7b"
      },
      "outputs": [
        {
          "name": "stdout",
          "output_type": "stream",
          "text": [
            "4\n",
            "4.0\n"
          ]
        }
      ],
      "source": [
        "b=\"sally\"#this is a type of string\n",
        "b=int(4)\n",
        "print(b)\n",
        "\n",
        "b=float(4)\n",
        "print(b)"
      ]
    },
    {
      "cell_type": "markdown",
      "metadata": {
        "id": "t_UTNd7IO4nD"
      },
      "source": [
        "**Type**()fu"
      ]
    },
    {
      "cell_type": "markdown",
      "metadata": {
        "id": "PfjmtD4HQcG9"
      },
      "source": [
        "Double Quotes or Single Quotes"
      ]
    },
    {
      "cell_type": "code",
      "execution_count": null,
      "metadata": {
        "id": "Xu0VWQaTQiXU"
      },
      "outputs": [],
      "source": [
        "y=\"john\"\n",
        "print(y)\n",
        "\n",
        "y='jhon'\n",
        "print(y)"
      ]
    },
    {
      "cell_type": "markdown",
      "metadata": {
        "id": "y3i83YLQQwhs"
      },
      "source": [
        "Case Sensitive"
      ]
    },
    {
      "cell_type": "code",
      "execution_count": null,
      "metadata": {
        "id": "He7hY6hCQzzU"
      },
      "outputs": [],
      "source": [
        "a=4\n",
        "A=\"sally\"\n",
        "#a will not overwrite a"
      ]
    },
    {
      "cell_type": "markdown",
      "metadata": {
        "id": "b_j76KRDRB2t"
      },
      "source": [
        "Multiple Viriables"
      ]
    },
    {
      "cell_type": "code",
      "execution_count": 22,
      "metadata": {
        "id": "ea1Xak36RFfN",
        "colab": {
          "base_uri": "https://localhost:8080/",
          "height": 140
        },
        "outputId": "213c0fd8-2e50-414c-a73d-15ef6e33b4a7"
      },
      "outputs": [
        {
          "output_type": "error",
          "ename": "IndentationError",
          "evalue": "unexpected indent (<ipython-input-22-f6c9886811c0>, line 2)",
          "traceback": [
            "\u001b[0;36m  File \u001b[0;32m\"<ipython-input-22-f6c9886811c0>\"\u001b[0;36m, line \u001b[0;32m2\u001b[0m\n\u001b[0;31m    print(x)\u001b[0m\n\u001b[0m    ^\u001b[0m\n\u001b[0;31mIndentationError\u001b[0m\u001b[0;31m:\u001b[0m unexpected indent\n"
          ]
        }
      ],
      "source": [
        "x,y,z= \"one\", \"two\",\"three\"\n",
        "  print(x)\n",
        "  print(y)\n",
        "  print(z)\n"
      ]
    },
    {
      "cell_type": "markdown",
      "metadata": {
        "id": "bH0QtnnORX0T"
      },
      "source": [
        "One Value to Multiple Viriable"
      ]
    },
    {
      "cell_type": "code",
      "execution_count": null,
      "metadata": {
        "colab": {
          "base_uri": "https://localhost:8080/",
          "height": 140
        },
        "id": "Qxjco3e5Rf4c",
        "outputId": "4d31389e-68b4-4fb5-a378-eb344d1ac000"
      },
      "outputs": [
        {
          "ename": "IndentationError",
          "evalue": "unexpected indent (<ipython-input-13-714ebd7d3d3f>, line 3)",
          "output_type": "error",
          "traceback": [
            "\u001b[0;36m  File \u001b[0;32m\"<ipython-input-13-714ebd7d3d3f>\"\u001b[0;36m, line \u001b[0;32m3\u001b[0m\n\u001b[0;31m    print(x)\u001b[0m\n\u001b[0m    ^\u001b[0m\n\u001b[0;31mIndentationError\u001b[0m\u001b[0;31m:\u001b[0m unexpected indent\n"
          ]
        }
      ],
      "source": [
        "x=y=z=\"four\"\n",
        "\n",
        "  print(x)\n",
        "  print(y)\n",
        "  print(z)\n"
      ]
    },
    {
      "cell_type": "markdown",
      "metadata": {
        "id": "81V9OKRjR3BE"
      },
      "source": [
        "Output Viriables"
      ]
    },
    {
      "cell_type": "code",
      "execution_count": null,
      "metadata": {
        "colab": {
          "base_uri": "https://localhost:8080/"
        },
        "id": "9YV4PBpfR60s",
        "outputId": "003bc26c-6aa1-4b07-b6ec-a7c75083147e"
      },
      "outputs": [
        {
          "name": "stdout",
          "output_type": "stream",
          "text": [
            "python programming is  enjoying\n"
          ]
        }
      ],
      "source": [
        "x=\"enjoying\"\n",
        "print(\"python programming is \"+\" \"+x)"
      ]
    },
    {
      "cell_type": "markdown",
      "metadata": {
        "id": "WkSJWrctSRAc"
      },
      "source": [
        "Other way"
      ]
    },
    {
      "cell_type": "code",
      "execution_count": null,
      "metadata": {
        "colab": {
          "base_uri": "https://localhost:8080/"
        },
        "id": "W8Po783PSTGk",
        "outputId": "003dee0d-b0b0-4069-bc89-6143d2115741"
      },
      "outputs": [
        {
          "name": "stdout",
          "output_type": "stream",
          "text": [
            "Phython isenjoying\n"
          ]
        }
      ],
      "source": [
        "x=\"Phython is\"\n",
        "y=\"enjoying\"\n",
        "z=x+y\n",
        "print(z)"
      ]
    },
    {
      "cell_type": "markdown",
      "metadata": {
        "id": "6nTk2wMiWOF1"
      },
      "source": [
        "Assignment Operators"
      ]
    },
    {
      "cell_type": "code",
      "execution_count": null,
      "metadata": {
        "colab": {
          "base_uri": "https://localhost:8080/"
        },
        "id": "fOHh3RKyWTZD",
        "outputId": "56a835b9-ad20-4031-f1c4-fe307a33c2ba"
      },
      "outputs": [
        {
          "data": {
            "text/plain": [
              "0"
            ]
          },
          "execution_count": 17,
          "metadata": {},
          "output_type": "execute_result"
        }
      ],
      "source": [
        "a,b,c=0,-1,6\n",
        "c%=3\n",
        "c"
      ]
    },
    {
      "cell_type": "markdown",
      "metadata": {
        "id": "I30tmF9CWsu1"
      },
      "source": [
        "Comparison Operators"
      ]
    },
    {
      "cell_type": "code",
      "execution_count": null,
      "metadata": {
        "colab": {
          "base_uri": "https://localhost:8080/"
        },
        "id": "d0Xs7zRtWvQk",
        "outputId": "91617fb9-14da-443a-99e6-d022f32d2243"
      },
      "outputs": [
        {
          "data": {
            "text/plain": [
              "True"
            ]
          },
          "execution_count": 18,
          "metadata": {},
          "output_type": "execute_result"
        }
      ],
      "source": [
        "x=1\n",
        "y=1\n",
        "x==y"
      ]
    },
    {
      "cell_type": "markdown",
      "metadata": {
        "id": "OXouSdTUW52s"
      },
      "source": [
        "Logical Operators"
      ]
    },
    {
      "cell_type": "code",
      "execution_count": null,
      "metadata": {
        "colab": {
          "background_save": true
        },
        "id": "ZhJ2fQ-FXDy1",
        "outputId": "4fd7f9b7-a9a6-469e-fab2-6c0c90c9cbc7"
      },
      "outputs": [
        {
          "data": {
            "text/plain": [
              "True"
            ]
          },
          "execution_count": 19,
          "metadata": {},
          "output_type": "execute_result"
        }
      ],
      "source": [
        "x=1\n",
        "x<5 and x<10"
      ]
    },
    {
      "cell_type": "markdown",
      "metadata": {
        "id": "DbWqxQI8XdE9"
      },
      "source": [
        "Identity Operators"
      ]
    },
    {
      "cell_type": "code",
      "execution_count": null,
      "metadata": {
        "colab": {
          "background_save": true
        },
        "id": "HMa8PT4BXfaE",
        "outputId": "df870776-37d8-486e-bec0-33e2d825485b"
      },
      "outputs": [
        {
          "data": {
            "text/plain": [
              "False"
            ]
          },
          "execution_count": 21,
          "metadata": {},
          "output_type": "execute_result"
        }
      ],
      "source": [
        "a,b,c=0,-1,"
      ]
    },
    {
      "cell_type": "markdown",
      "source": [
        "Bitwise Operators"
      ],
      "metadata": {
        "id": "QYWy4vlLYTz0"
      }
    },
    {
      "cell_type": "code",
      "source": [],
      "metadata": {
        "id": "AwcOlsWcYXHj"
      },
      "execution_count": null,
      "outputs": []
    }
  ],
  "metadata": {
    "colab": {
      "provenance": [],
      "authorship_tag": "ABX9TyNMAftk7STtZvqXdogqhEK7",
      "include_colab_link": true
    },
    "kernelspec": {
      "display_name": "Python 3",
      "name": "python3"
    },
    "language_info": {
      "name": "python"
    }
  },
  "nbformat": 4,
  "nbformat_minor": 0
}