{
  "nbformat": 4,
  "nbformat_minor": 0,
  "metadata": {
    "colab": {
      "provenance": [],
      "authorship_tag": "ABX9TyMvqHCG/HXlNeVzk4r3CIRz",
      "include_colab_link": true
    },
    "kernelspec": {
      "name": "python3",
      "display_name": "Python 3"
    },
    "language_info": {
      "name": "python"
    }
  },
  "cells": [
    {
      "cell_type": "markdown",
      "metadata": {
        "id": "view-in-github",
        "colab_type": "text"
      },
      "source": [
        "<a href=\"https://colab.research.google.com/github/MiguelDeleon10/CPE009A-OOP/blob/main/demo3.ipynb\" target=\"_parent\"><img src=\"https://colab.research.google.com/assets/colab-badge.svg\" alt=\"Open In Colab\"/></a>"
      ]
    },
    {
      "cell_type": "markdown",
      "source": [
        "CODITIONAL STATEMENT IN PHYTHON"
      ],
      "metadata": {
        "id": "TBwTZolqNS2H"
      }
    },
    {
      "cell_type": "code",
      "source": [
        "#if statement\n",
        "\n",
        "a=12\n",
        "b=100\n",
        "if b>a:\n",
        "  print (\"b is greater than a\")"
      ],
      "metadata": {
        "colab": {
          "base_uri": "https://localhost:8080/"
        },
        "id": "t-WKb15fOgff",
        "outputId": "ef6c34a9-0f5a-4817-d795-2bf2c91952ef"
      },
      "execution_count": 2,
      "outputs": [
        {
          "output_type": "stream",
          "name": "stdout",
          "text": [
            "b is greater than a\n"
          ]
        }
      ]
    },
    {
      "cell_type": "code",
      "source": [
        "#elif statement\n",
        "\n",
        "a=12\n",
        "b=12\n",
        "if b>a:\n",
        "  print (\"b is greater than a\")\n",
        "elif a==b:\n",
        "  print (\"a and b are equal\")"
      ],
      "metadata": {
        "colab": {
          "base_uri": "https://localhost:8080/"
        },
        "id": "RgmhXq-8PzHo",
        "outputId": "f24c1a0d-5484-4807-d78a-28fc245cd040"
      },
      "execution_count": 6,
      "outputs": [
        {
          "output_type": "stream",
          "name": "stdout",
          "text": [
            "a and b are equal\n"
          ]
        }
      ]
    },
    {
      "cell_type": "code",
      "source": [],
      "metadata": {
        "id": "rear36_TQkGa"
      },
      "execution_count": null,
      "outputs": []
    }
  ]
}