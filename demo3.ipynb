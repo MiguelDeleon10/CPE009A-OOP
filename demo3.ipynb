{
  "nbformat": 4,
  "nbformat_minor": 0,
  "metadata": {
    "colab": {
      "provenance": [],
      "authorship_tag": "ABX9TyOea8C8XFb+tM2IVj7KSzDn",
      "include_colab_link": true
    },
    "kernelspec": {
      "name": "python3",
      "display_name": "Python 3"
    },
    "language_info": {
      "name": "python"
    }
  },
  "cells": [
    {
      "cell_type": "markdown",
      "metadata": {
        "id": "view-in-github",
        "colab_type": "text"
      },
      "source": [
        "<a href=\"https://colab.research.google.com/github/MiguelDeleon10/CPE009A-OOP/blob/main/demo3.ipynb\" target=\"_parent\"><img src=\"https://colab.research.google.com/assets/colab-badge.svg\" alt=\"Open In Colab\"/></a>"
      ]
    },
    {
      "cell_type": "markdown",
      "source": [
        "CODITIONAL STATEMENT IN PHYTHON"
      ],
      "metadata": {
        "id": "TBwTZolqNS2H"
      }
    },
    {
      "cell_type": "code",
      "source": [
        "#if statement\n",
        "\n",
        "a=12\n",
        "b=100\n",
        "if b>a:\n",
        "  print (\"b is greater than a\")"
      ],
      "metadata": {
        "colab": {
          "base_uri": "https://localhost:8080/"
        },
        "id": "t-WKb15fOgff",
        "outputId": "ef6c34a9-0f5a-4817-d795-2bf2c91952ef"
      },
      "execution_count": 2,
      "outputs": [
        {
          "output_type": "stream",
          "name": "stdout",
          "text": [
            "b is greater than a\n"
          ]
        }
      ]
    },
    {
      "cell_type": "code",
      "source": [
        "#elif statement\n",
        "\n",
        "a=12\n",
        "b=12\n",
        "if b>a:\n",
        "  print (\"b is greater than a\")\n",
        "elif a==b:\n",
        "  print (\"both are equal\")"
      ],
      "metadata": {
        "colab": {
          "base_uri": "https://localhost:8080/"
        },
        "id": "RgmhXq-8PzHo",
        "outputId": "f90a8430-d8e1-4c62-f056-373ebecc5557"
      },
      "execution_count": 7,
      "outputs": [
        {
          "output_type": "stream",
          "name": "stdout",
          "text": [
            "both are equal\n"
          ]
        }
      ]
    },
    {
      "cell_type": "code",
      "source": [
        "#else statement\n",
        "\n",
        "a=200\n",
        "b=33\n",
        "if b>a:\n",
        "  print (\"b is greater than a\")\n",
        "elif a==b:\n",
        "  print (\"both are equal\")\n",
        "else:\n",
        "  print (\"a is greater than b\")"
      ],
      "metadata": {
        "colab": {
          "base_uri": "https://localhost:8080/"
        },
        "id": "rear36_TQkGa",
        "outputId": "3c7c029d-3b04-428e-8b76-85e72618da66"
      },
      "execution_count": 8,
      "outputs": [
        {
          "output_type": "stream",
          "name": "stdout",
          "text": [
            "a is greater than b\n"
          ]
        }
      ]
    },
    {
      "cell_type": "code",
      "source": [
        "#short hand if statement\n",
        "\n",
        "if a>b:print (\"a is greatr than b\")"
      ],
      "metadata": {
        "colab": {
          "base_uri": "https://localhost:8080/"
        },
        "id": "K1RZJiw3SZc5",
        "outputId": "89373840-0e17-4777-d32e-ed942d82e079"
      },
      "execution_count": 9,
      "outputs": [
        {
          "output_type": "stream",
          "name": "stdout",
          "text": [
            "a is greatr than b\n"
          ]
        }
      ]
    },
    {
      "cell_type": "code",
      "source": [
        "#short hand if else statement\n",
        "\n",
        "a=2\n",
        "b=33\n",
        "print (\"a\") if a>b: (\"b is greater than a\")"
      ],
      "metadata": {
        "colab": {
          "base_uri": "https://localhost:8080/",
          "height": 140
        },
        "id": "UOe0T9kaSqHI",
        "outputId": "f5c50f29-2144-4641-875d-0b887dc399f9"
      },
      "execution_count": 10,
      "outputs": [
        {
          "output_type": "error",
          "ename": "SyntaxError",
          "evalue": "invalid syntax (<ipython-input-10-f983ae723524>, line 5)",
          "traceback": [
            "\u001b[0;36m  File \u001b[0;32m\"<ipython-input-10-f983ae723524>\"\u001b[0;36m, line \u001b[0;32m5\u001b[0m\n\u001b[0;31m    print (\"a\") if a>b: (\"b is greater than a\")\u001b[0m\n\u001b[0m                      ^\u001b[0m\n\u001b[0;31mSyntaxError\u001b[0m\u001b[0;31m:\u001b[0m invalid syntax\n"
          ]
        }
      ]
    },
    {
      "cell_type": "code",
      "source": [
        "#and-both condition are true\n",
        "\n",
        "a=200\n",
        "b=33\n",
        "c=500\n",
        "if a>b and c>a:\n",
        "  print(\"both conditions are true\")"
      ],
      "metadata": {
        "colab": {
          "base_uri": "https://localhost:8080/"
        },
        "id": "ZwbaPKtnT8zg",
        "outputId": "6b4973e7-6261-4bb8-b242-01eef01e9980"
      },
      "execution_count": 11,
      "outputs": [
        {
          "output_type": "stream",
          "name": "stdout",
          "text": [
            "both conditions are true\n"
          ]
        }
      ]
    },
    {
      "cell_type": "code",
      "source": [
        "#or-at least one of the conditions is ture\n",
        "\n",
        "a=200\n",
        "b=33\n",
        "c=500\n",
        "if a>b or a>c:\n",
        "  print (\"at least one of the conditions is true\")"
      ],
      "metadata": {
        "colab": {
          "base_uri": "https://localhost:8080/"
        },
        "id": "7b9FrPYoUZH4",
        "outputId": "024d5c8c-58b9-43f2-a13e-57a82b201440"
      },
      "execution_count": 12,
      "outputs": [
        {
          "output_type": "stream",
          "name": "stdout",
          "text": [
            "at least one of the conditions is true\n"
          ]
        }
      ]
    },
    {
      "cell_type": "code",
      "source": [
        "#nested if\n",
        "x=41\n",
        "\n",
        "if x>10:\n",
        "  print (\"above 10\")\n",
        "if x>20:\n",
        "  print (\"and also above 20\")\n",
        "else:\n",
        "  print (\"but not above 20\")\n",
        "if (x>30):\n",
        "  print (\"and also above 30\")\n",
        "else:\n",
        "  print (\"not above 30\")\n",
        "\n",
        "if (x>40):\n",
        "  print (\"above 40.\")\n",
        "else:\n",
        "    print (\"not above 40\")\n",
        "if (x<50):\n",
        "  print (\"but not above 50\")\n",
        "else:\n",
        "  print (\"above 50\")"
      ],
      "metadata": {
        "colab": {
          "base_uri": "https://localhost:8080/"
        },
        "id": "gdmB8qAsUu2p",
        "outputId": "c9908ca2-1868-45ed-fa97-be9fcf0c54cc"
      },
      "execution_count": 24,
      "outputs": [
        {
          "output_type": "stream",
          "name": "stdout",
          "text": [
            "above 10\n",
            "and also above 20\n",
            "and also above 30\n",
            "above 40.\n",
            "but not above 50\n"
          ]
        }
      ]
    },
    {
      "cell_type": "markdown",
      "source": [
        "EXAMPLE 1\n",
        "\n",
        "Write a program that determines if the input age number is quality"
      ],
      "metadata": {
        "id": "QVFyDjxPaoeR"
      }
    },
    {
      "cell_type": "code",
      "source": [
        "print (\"Input Age.\")\n",
        "\n",
        "num=input()\n",
        "if (num<0):\n",
        "  print (\"not qualified\")\n",
        "else:\n",
        "    print (\"18 above is quilified to vote\")"
      ],
      "metadata": {
        "id": "fvFT8-5nbOtB"
      },
      "execution_count": null,
      "outputs": []
    },
    {
      "cell_type": "code",
      "source": [
        "num = float (input(\"Enter your age:\"))\n",
        "if num>17:\n",
        "  print (\"Your age is Qualified.\")\n",
        "else:\n",
        "  print (\"The Inputed age is Not Qualified.\")"
      ],
      "metadata": {
        "colab": {
          "base_uri": "https://localhost:8080/"
        },
        "id": "p5l8PSjPheLY",
        "outputId": "4d97087e-49b9-456d-b91d-bcfe21cee682"
      },
      "execution_count": 55,
      "outputs": [
        {
          "output_type": "stream",
          "name": "stdout",
          "text": [
            "Enter your age:80\n",
            "Your age is Qualified.\n"
          ]
        }
      ]
    }
  ]
}