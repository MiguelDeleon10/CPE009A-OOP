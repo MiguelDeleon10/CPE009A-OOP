{
  "nbformat": 4,
  "nbformat_minor": 0,
  "metadata": {
    "colab": {
      "provenance": [],
      "authorship_tag": "ABX9TyMkc0YrzjgX2m/3KjbXY3ei",
      "include_colab_link": true
    },
    "kernelspec": {
      "name": "python3",
      "display_name": "Python 3"
    },
    "language_info": {
      "name": "python"
    }
  },
  "cells": [
    {
      "cell_type": "markdown",
      "metadata": {
        "id": "view-in-github",
        "colab_type": "text"
      },
      "source": [
        "<a href=\"https://colab.research.google.com/github/MiguelDeleon10/CPE009A-OOP/blob/main/specialExam_prelim.ipynb\" target=\"_parent\"><img src=\"https://colab.research.google.com/assets/colab-badge.svg\" alt=\"Open In Colab\"/></a>"
      ]
    },
    {
      "cell_type": "code",
      "execution_count": 2,
      "metadata": {
        "colab": {
          "base_uri": "https://localhost:8080/"
        },
        "id": "f_Lo1YHi28rR",
        "outputId": "c09c0815-39c9-4ce7-8ac2-8a307c075195"
      },
      "outputs": [
        {
          "output_type": "stream",
          "name": "stdout",
          "text": [
            "enter your fullname:miguel de leon\n",
            "enter your age:18\n",
            "fullname and age:miguel de leon and 18\n"
          ]
        }
      ],
      "source": [
        "fullname= input(\"enter your fullname:\")\n",
        "age = input(\"enter your age:\")\n",
        "print(\"fullname and age:\" +fullname +\" \" + \"and\" + \" \" + age)\n"
      ]
    },
    {
      "cell_type": "code",
      "source": [
        "fullname = input(\"enter your fullname:\")\n",
        "age = input(\"enter your age:\")\n",
        "print(\"fullname and age: \" +fullname + age)"
      ],
      "metadata": {
        "colab": {
          "base_uri": "https://localhost:8080/"
        },
        "id": "WW3SFQtI32T8",
        "outputId": "d5d54589-423a-4b71-92a8-4155bfff62e0"
      },
      "execution_count": 3,
      "outputs": [
        {
          "output_type": "stream",
          "name": "stdout",
          "text": [
            "enter your fullname:miguel de leon\n",
            "enter your age:18\n",
            "fullname and age: miguel de leon18\n"
          ]
        }
      ]
    },
    {
      "cell_type": "code",
      "source": [
        "fullname = input(\"enter your name:\")\n",
        "age = input(\"enter your age:\")\n",
        "print(\"fullname and age : \" +fullname +\n",
        "                                                                                                \"\\n\" + age)"
      ],
      "metadata": {
        "colab": {
          "base_uri": "https://localhost:8080/"
        },
        "id": "nv_cHJqS4RYe",
        "outputId": "7a430077-c700-490d-b3a3-1aa851fd6f25"
      },
      "execution_count": 5,
      "outputs": [
        {
          "output_type": "stream",
          "name": "stdout",
          "text": [
            "enter your name:miguel de leon\n",
            "enter your age:18\n",
            "fullname and age : miguel de leon\n",
            "18\n"
          ]
        }
      ]
    }
  ]
}