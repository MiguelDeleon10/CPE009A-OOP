{
  "nbformat": 4,
  "nbformat_minor": 0,
  "metadata": {
    "colab": {
      "provenance": [],
      "authorship_tag": "ABX9TyN13KRP0rxAz8UuXOkD0KPh",
      "include_colab_link": true
    },
    "kernelspec": {
      "name": "python3",
      "display_name": "Python 3"
    },
    "language_info": {
      "name": "python"
    }
  },
  "cells": [
    {
      "cell_type": "markdown",
      "metadata": {
        "id": "view-in-github",
        "colab_type": "text"
      },
      "source": [
        "<a href=\"https://colab.research.google.com/github/MiguelDeleon10/CPE009A-OOP/blob/main/Exercise1.ipynb\" target=\"_parent\"><img src=\"https://colab.research.google.com/assets/colab-badge.svg\" alt=\"Open In Colab\"/></a>"
      ]
    },
    {
      "cell_type": "markdown",
      "source": [
        "**Algorithm to get the perimeter and area of a rectangle.**"
      ],
      "metadata": {
        "id": "J6zNQA-EcikU"
      }
    },
    {
      "cell_type": "code",
      "source": [
        "# Function to calculate the perimeter of a rectangle def calculate_perimeter(length, width): return 2 * (length + width)\n",
        "# Function to calculate the area of a rectangle def calculate_area(length, width): return length * width\n",
        "# Input: Length and Width of the Rectangle\n",
        "length = float(input(\"Enter the length of the rectangle: \"))\n",
        "width = float(input(\"Enter the width of the rectangle: \"))\n",
        "perimeter = calculate_perimeter=(length, width)\n",
        "area = calculate_area=(length, width)\n",
        "print(sum)\n",
        "print(f\"Perimeter of the rectangle: {perimeter}\")\n",
        "print(f\"Area of the rectangle: {area}\")"
      ],
      "metadata": {
        "id": "opRvCNEOX7SL",
        "colab": {
          "base_uri": "https://localhost:8080/"
        },
        "outputId": "1da39634-edb2-4b4c-97db-192dff4e7862"
      },
      "execution_count": 9,
      "outputs": [
        {
          "output_type": "stream",
          "name": "stdout",
          "text": [
            "Enter the length of the rectangle: 100\n",
            "Enter the width of the rectangle: 20\n",
            "<built-in function sum>\n",
            "Perimeter of the rectangle: (100.0, 20.0)\n",
            "Area of the rectangle: (100.0, 20.0)\n"
          ]
        }
      ]
    }
  ]
}