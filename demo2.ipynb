{
  "nbformat": 4,
  "nbformat_minor": 0,
  "metadata": {
    "colab": {
      "provenance": [],
      "authorship_tag": "ABX9TyP3begerRLeYWq8vSRttOgJ",
      "include_colab_link": true
    },
    "kernelspec": {
      "name": "python3",
      "display_name": "Python 3"
    },
    "language_info": {
      "name": "python"
    }
  },
  "cells": [
    {
      "cell_type": "markdown",
      "metadata": {
        "id": "view-in-github",
        "colab_type": "text"
      },
      "source": [
        "<a href=\"https://colab.research.google.com/github/MiguelDeleon10/CPE009A-OOP/blob/main/demo2.ipynb\" target=\"_parent\"><img src=\"https://colab.research.google.com/assets/colab-badge.svg\" alt=\"Open In Colab\"/></a>"
      ]
    },
    {
      "cell_type": "code",
      "execution_count": null,
      "metadata": {
        "id": "QiaRRLpnIUlj"
      },
      "outputs": [],
      "source": []
    },
    {
      "cell_type": "markdown",
      "source": [
        "Flow Chart\n"
      ],
      "metadata": {
        "id": "5U8Dw69oPTlx"
      }
    },
    {
      "cell_type": "code",
      "source": [
        "num1=50\n",
        "num2=50\n",
        "num3=50\n",
        "sum=num1+num2+num3\n",
        "avarage=sum/3\n",
        "print(sum)\n",
        "print(avarage)"
      ],
      "metadata": {
        "colab": {
          "base_uri": "https://localhost:8080/"
        },
        "id": "MFBZgp0_PWQP",
        "outputId": "c434cad3-552d-4f79-e19b-9910094a23b4"
      },
      "execution_count": 1,
      "outputs": [
        {
          "output_type": "stream",
          "name": "stdout",
          "text": [
            "150\n",
            "50.0\n"
          ]
        }
      ]
    }
  ]
}