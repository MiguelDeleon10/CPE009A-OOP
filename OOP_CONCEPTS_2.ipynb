{
  "nbformat": 4,
  "nbformat_minor": 0,
  "metadata": {
    "colab": {
      "provenance": [],
      "authorship_tag": "ABX9TyOmY6sllYtKv+a3MIQqg2y/",
      "include_colab_link": true
    },
    "kernelspec": {
      "name": "python3",
      "display_name": "Python 3"
    },
    "language_info": {
      "name": "python"
    }
  },
  "cells": [
    {
      "cell_type": "markdown",
      "metadata": {
        "id": "view-in-github",
        "colab_type": "text"
      },
      "source": [
        "<a href=\"https://colab.research.google.com/github/MiguelDeleon10/CPE009A-OOP/blob/main/OOP_CONCEPTS_2.ipynb\" target=\"_parent\"><img src=\"https://colab.research.google.com/assets/colab-badge.svg\" alt=\"Open In Colab\"/></a>"
      ]
    },
    {
      "cell_type": "code",
      "execution_count": 1,
      "metadata": {
        "colab": {
          "base_uri": "https://localhost:8080/",
          "height": 141
        },
        "id": "Trj46LnFgOtr",
        "outputId": "be026662-1e1c-4745-a2bf-ea39dc92efb8"
      },
      "outputs": [
        {
          "output_type": "error",
          "ename": "SyntaxError",
          "evalue": "invalid syntax. Perhaps you forgot a comma? (<ipython-input-1-e6fdf2f3f847>, line 1)",
          "traceback": [
            "\u001b[0;36m  File \u001b[0;32m\"<ipython-input-1-e6fdf2f3f847>\"\u001b[0;36m, line \u001b[0;32m1\u001b[0m\n\u001b[0;31m    DSALFM|{SDLMG|SDMG[sdmg'lsmglmglxc;mv,,v,v,v,v,v;cx'vxvcvxvcxcvf wefWFLSMDFslmf:lfnsPknfasnaisdasdpasndaipmndApsdMAOPDMAPOSDMAPOSMDAOSDMPAODMAPSMDAPSODMAPSODMAOSMAPMSDOAMSDOAMSDOMASDOMAPSMDPASMDPAMDPMDOASMDPNONNNNNNNNNNNNNNNNNNNNNNNNNNNNNNNNNNNNNNNNNNNNDDDDDDDDDDDDDDDDDDDDDDDNDNDNDNDNDN N DN ASA ]ISNDANDPASINDASDNPASDNADNAkn{fNa}}\u001b[0m\n\u001b[0m                           ^\u001b[0m\n\u001b[0;31mSyntaxError\u001b[0m\u001b[0;31m:\u001b[0m invalid syntax. Perhaps you forgot a comma?\n"
          ]
        }
      ],
      "source": [
        "\n",
        "DSALFM|{SDLMG|SDMG[sdmg'lsmglmglxc;mv,,v,v,v,v,v;cx'vxvcvxvcxcvf wefWFLSMDFslmf:lfnsPknfasnaisdasdpasndaipmndApsdMAOPDMAPOSDMAPOSMDAOSDMPAODMAPSMDAPSODMAPSODMAOSMAPMSDOAMSDOAMSDOMASDOMAPSMDPASMDPAMDPMDOASMDPNONNNNNNNNNNNNNNNNNNNNNNNNNNNNNNNNNNNNNNNNNNNNDDDDDDDDDDDDDDDDDDDDDDDNDNDNDNDNDN N DN ASA ]ISNDANDPASINDASDNPASDNADNAkn{fNa}}"
      ]
    },
    {
      "cell_type": "code",
      "source": [
        "class Shape:\n",
        "    def __init__(self, name):\n",
        "        self.name = name\n",
        "\n",
        "    def display_num_sides(self):\n",
        "        pass  # Placeholder method to be overridden by subclasses\n",
        "\n",
        "\n",
        "class Triangle(Shape):\n",
        "    def __init__(self):\n",
        "        super().__init__(\"triangle\")\n",
        "\n",
        "    def display_num_sides(self):\n",
        "        print(\"A triangle has 3 sides.\")\n",
        "\n",
        "\n",
        "class Square(Shape):\n",
        "    def __init__(self):\n",
        "        super().__init__(\"square\")\n",
        "\n",
        "    def display_num_sides(self):\n",
        "        print(\"A square has 4 sides.\")\n",
        "\n",
        "\n",
        "class Pentagon(Shape):\n",
        "    def __init__(self):\n",
        "        super().__init__(\"pentagon\")\n",
        "\n",
        "    def display_num_sides(self):\n",
        "        print(\"A pentagon has 5 sides.\")\n",
        "\n",
        "\n",
        "# Add more shape classes as needed...\n",
        "\n",
        "\n",
        "def display_shape_info(shape):\n",
        "    if isinstance(shape, Shape):\n",
        "        shape.display_num_sides()\n",
        "    else:\n",
        "        print(\"Invalid shape object.\")\n",
        "\n",
        "\n",
        "# Example usage:\n",
        "triangle = Triangle()\n",
        "square = Square()\n",
        "pentagon = Pentagon()\n",
        "\n",
        "display_shape_info(triangle)\n",
        "display_shape_info(square)\n",
        "display_shape_info(pentagon)\n"
      ],
      "metadata": {
        "colab": {
          "base_uri": "https://localhost:8080/"
        },
        "id": "wpFliXd0oB9m",
        "outputId": "55d0bc39-d535-448a-9291-9d112dbe08d2"
      },
      "execution_count": 2,
      "outputs": [
        {
          "output_type": "stream",
          "name": "stdout",
          "text": [
            "A triangle has 3 sides.\n",
            "A square has 4 sides.\n",
            "A pentagon has 5 sides.\n"
          ]
        }
      ]
    }
  ]
}