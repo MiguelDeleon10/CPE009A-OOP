{
  "nbformat": 4,
  "nbformat_minor": 0,
  "metadata": {
    "colab": {
      "provenance": [],
      "authorship_tag": "ABX9TyOXQZvWNuSjPDzoitKn45Bc",
      "include_colab_link": true
    },
    "kernelspec": {
      "name": "python3",
      "display_name": "Python 3"
    },
    "language_info": {
      "name": "python"
    }
  },
  "cells": [
    {
      "cell_type": "markdown",
      "metadata": {
        "id": "view-in-github",
        "colab_type": "text"
      },
      "source": [
        "<a href=\"https://colab.research.google.com/github/MiguelDeleon10/CPE009A-OOP/blob/main/Application01.ipynb\" target=\"_parent\"><img src=\"https://colab.research.google.com/assets/colab-badge.svg\" alt=\"Open In Colab\"/></a>"
      ]
    },
    {
      "cell_type": "code",
      "execution_count": 3,
      "metadata": {
        "colab": {
          "base_uri": "https://localhost:8080/"
        },
        "id": "vfF1SSCfxHKM",
        "outputId": "a346225b-7bc7-416f-a75f-5d7c368ffb62"
      },
      "outputs": [
        {
          "output_type": "stream",
          "name": "stdout",
          "text": [
            "Enter student 1 name: miguel\n",
            "Enter miguel's term grade: 79.1\n",
            "Enter student 2 name: joseph\n",
            "Enter joseph's term grade: 80.00\n",
            "Enter student 3 name: vien\n",
            "Enter vien's term grade: 91.02\n",
            "\n",
            "Student Name\tTerm Grade\n",
            "-----------------------------\n",
            "miguel         \t79.1\n",
            "joseph         \t80.0\n",
            "vien           \t91.02\n"
          ]
        }
      ],
      "source": [
        "def main():\n",
        "    students = []\n",
        "\n",
        "    # Input student names and grades\n",
        "    for i in range(3):\n",
        "        name = input(\"Enter student {} name: \".format(i+1))\n",
        "        grade = float(input(\"Enter {}'s term grade: \".format(name)))\n",
        "        students.append((name, grade))\n",
        "\n",
        "    # Display student names and grades\n",
        "    print(\"\\nStudent Name\\tTerm Grade\")\n",
        "    print(\"-----------------------------\")\n",
        "    for student in students:\n",
        "        print(\"{:<15}\\t{}\".format(student[0], student[1]))\n",
        "\n",
        "if __name__ == \"__main__\":\n",
        "    main()"
      ]
    },
    {
      "cell_type": "code",
      "source": [
        "class Student:\n",
        "    def __init__(self, name, term_grade):\n",
        "        self.name = name\n",
        "        self.term_grade = term_grade\n",
        "\n",
        "    def grade(self):\n",
        "        return self.term_grade\n",
        "\n",
        "def average_grade(students):\n",
        "    total = sum(student.grade() for student in students)\n",
        "    return total / len(students)\n",
        "\n",
        "def main():\n",
        "    students = []\n",
        "\n",
        "    # Input student names and grades\n",
        "    for i in range(3):\n",
        "        name = input(\"Enter student {} name: \".format(i+1))\n",
        "        grade = float(input(\"Enter {}'s term grade: \".format(name)))\n",
        "        students.append(Student(name, grade))\n",
        "\n",
        "    # Compute average grade\n",
        "    avg = average_grade(students)\n",
        "\n",
        "    # Display average grade\n",
        "    print(\"\\nAverage term grade: {:.2f}\".format(avg))\n",
        "\n",
        "if __name__ == \"__main__\":\n",
        "    main()\n"
      ],
      "metadata": {
        "colab": {
          "base_uri": "https://localhost:8080/"
        },
        "id": "3wzAkFVQzwb_",
        "outputId": "cdc2df9f-da25-4449-f76c-658c5f925bc5"
      },
      "execution_count": 4,
      "outputs": [
        {
          "output_type": "stream",
          "name": "stdout",
          "text": [
            "Enter student 1 name: miguel\n",
            "Enter miguel's term grade: 100\n",
            "Enter student 2 name: marcuis\n",
            "Enter marcuis's term grade: 90\n",
            "Enter student 3 name: matthew\n",
            "Enter matthew's term grade: 71\n",
            "\n",
            "Average term grade: 87.00\n"
          ]
        }
      ]
    },
    {
      "cell_type": "code",
      "source": [
        "class Person:\n",
        "    def __init__(self, std1, std2, std3, pre, mid, fin):\n",
        "        self.std1 = std1\n",
        "        self.std2 = std2\n",
        "        self.std3 = std3\n",
        "        self.pre = pre\n",
        "        self.mid = mid\n",
        "        self.fin = fin\n",
        "\n",
        "def main():\n",
        "    # Create an instance of Person class\n",
        "    student = Person(\"John\", \"Alice\", \"Bob\", 85, 90, 88)\n",
        "\n",
        "    # Accessing and printing attributes\n",
        "    print(\"Student 1:\", student.std1)\n",
        "    print(\"Student 2:\", student.std2)\n",
        "    print(\"Student 3:\", student.std3)\n",
        "    print(\"Pre-assessment grade:\", student.pre)\n",
        "    print(\"Mid-assessment grade:\", student.mid)\n",
        "    print(\"Final assessment grade:\", student.fin)\n",
        "\n",
        "if __name__ == \"__main__\":\n",
        "    main()\n",
        "\n"
      ],
      "metadata": {
        "colab": {
          "base_uri": "https://localhost:8080/"
        },
        "id": "ZXPQ_PhF1ngv",
        "outputId": "d0e8b3ea-9006-45dc-d414-f85563e53b98"
      },
      "execution_count": 7,
      "outputs": [
        {
          "output_type": "stream",
          "name": "stdout",
          "text": [
            "Student 1: John\n",
            "Student 2: Alice\n",
            "Student 3: Bob\n",
            "Pre-assessment grade: 85\n",
            "Mid-assessment grade: 90\n",
            "Final assessment grade: 88\n"
          ]
        }
      ]
    },
    {
      "cell_type": "code",
      "source": [
        "class Student:\n",
        "    def __init__(self, name, grade):\n",
        "        self._name = name\n",
        "        self._grade = grade\n",
        "\n",
        "    def get_name(self):\n",
        "        return self._name\n",
        "\n",
        "    def get_grade(self):\n",
        "        # Here, you can add any logic you want to restrict access to the grade information\n",
        "        # For example, you could check if the user accessing the grade has certain privileges\n",
        "        # In this basic example, we are simply returning a placeholder if the access is restricted\n",
        "        return \"Grade information is restricted.\"\n",
        "\n",
        "def main():\n",
        "    # Create instances of Student class\n",
        "    student1 = Student(\"Alice\", 85)\n",
        "    student2 = Student(\"Bob\", 90)\n",
        "\n",
        "    # Example of accessing student information\n",
        "    print(\"Student 1:\", student1.get_name())\n",
        "    print(\"Student 2:\", student2.get_name())\n",
        "\n",
        "    # Example of accessing grade information\n",
        "    # This will return a restricted message\n",
        "    print(\"Student 1 Grade:\", student1.get_grade())\n",
        "    print(\"Student 2 Grade:\", student2.get_grade())\n",
        "\n",
        "if __name__ == \"__main__\":\n",
        "    main()\n"
      ],
      "metadata": {
        "colab": {
          "base_uri": "https://localhost:8080/"
        },
        "id": "9rekILkr1wvo",
        "outputId": "5685b7df-4ea5-4da4-e7ee-a4125ffecff7"
      },
      "execution_count": 8,
      "outputs": [
        {
          "output_type": "stream",
          "name": "stdout",
          "text": [
            "Student 1: Alice\n",
            "Student 2: Bob\n",
            "Student 1 Grade: Grade information is restricted.\n",
            "Student 2 Grade: Grade information is restricted.\n"
          ]
        }
      ]
    }
  ]
}