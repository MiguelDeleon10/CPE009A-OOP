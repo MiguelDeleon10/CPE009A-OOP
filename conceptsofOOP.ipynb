{
  "nbformat": 4,
  "nbformat_minor": 0,
  "metadata": {
    "colab": {
      "provenance": [],
      "authorship_tag": "ABX9TyNo3wai/x/5z5TR7LGr8Jac",
      "include_colab_link": true
    },
    "kernelspec": {
      "name": "python3",
      "display_name": "Python 3"
    },
    "language_info": {
      "name": "python"
    }
  },
  "cells": [
    {
      "cell_type": "markdown",
      "metadata": {
        "id": "view-in-github",
        "colab_type": "text"
      },
      "source": [
        "<a href=\"https://colab.research.google.com/github/MiguelDeleon10/CPE009A-OOP/blob/main/conceptsofOOP.ipynb\" target=\"_parent\"><img src=\"https://colab.research.google.com/assets/colab-badge.svg\" alt=\"Open In Colab\"/></a>"
      ]
    },
    {
      "cell_type": "markdown",
      "source": [
        "The goal of Object-Oriented Programming\n",
        "(OOP) is to create \"objects.\" An object is a\n",
        "collection of variables and functions that are\n",
        "linked together. These variables are frequently\n",
        "referred to as object attributes, and functions are\n",
        "referred to as object behavior. These objects\n",
        "provide the software a more organized and\n",
        "logical structure, and clear structure of\n",
        "programs.\n"
      ],
      "metadata": {
        "id": "GIHt4Ja0hy5u"
      }
    },
    {
      "cell_type": "markdown",
      "source": [
        "POP\n",
        "• Requires certain\n",
        "procedure of steps\n",
        "• Program is divided into\n",
        "functions with specific\n",
        "task\n",
        "• Suitable for small tasks\n",
        "• Hard to debug\n",
        "• Lack of security\n",
        "\n",
        "\n",
        "\n",
        "OOP\n",
        "• Program consists of\n",
        "objects\n",
        "• Program divides into\n",
        "objects\n",
        "• Entities are bundled up\n",
        "with properties and\n",
        "behavior\n",
        "• Clearer and has less\n",
        "complex structure\n",
        "• Reusable codes\n"
      ],
      "metadata": {
        "id": "cKC6BBSAh1LH"
      }
    },
    {
      "cell_type": "code",
      "source": [
        "class Car:\n",
        "  pass\n",
        "obj1 = Car()\n",
        "print(obj1)"
      ],
      "metadata": {
        "colab": {
          "base_uri": "https://localhost:8080/"
        },
        "id": "JeEz9iD7iT57",
        "outputId": "09d3712f-638e-4dc9-d2be-75b680b321ef"
      },
      "execution_count": 46,
      "outputs": [
        {
          "output_type": "stream",
          "name": "stdout",
          "text": [
            "<__main__.Car object at 0x7f2671a21390>\n"
          ]
        }
      ]
    },
    {
      "cell_type": "code",
      "source": [
        "class Car:\n",
        "   def _init_(self,name,color):\n",
        "    self.name=name\n",
        "    self.color=color\n",
        "    obj1 = Car(\"BMW\",\"RED\")\n",
        "    print(obj1.name)\n",
        "    print(obj1.color)\n"
      ],
      "metadata": {
        "id": "6F6-Rxe8kryO"
      },
      "execution_count": 50,
      "outputs": []
    },
    {
      "cell_type": "code",
      "source": [
        "class Student:\n",
        " def _init_(self,name,age,grade):\n",
        "  self.name=name\n",
        "  self.age=age\n",
        "  self.grade=grade\n",
        "\n",
        " def _init_(self):\n",
        "  print(\"name\",self.name)\n",
        "  print(\"age\", self.age)\n",
        "  print(\"grade\", self.grade)"
      ],
      "metadata": {
        "id": "CtF0q_oWobgm"
      },
      "execution_count": 52,
      "outputs": []
    }
  ]
}